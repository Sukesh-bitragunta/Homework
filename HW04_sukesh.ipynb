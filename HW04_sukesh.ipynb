{
  "nbformat": 4,
  "nbformat_minor": 0,
  "metadata": {
    "colab": {
      "name": "HW04_sukesh.ipynb",
      "provenance": []
    },
    "kernelspec": {
      "name": "python3",
      "display_name": "Python 3"
    },
    "language_info": {
      "name": "python"
    }
  },
  "cells": [
    {
      "cell_type": "code",
      "source": [
        "from pyspark.sql.functions import *\n",
        "from pyspark.sql import SparkSession"
      ],
      "metadata": {
        "id": "9FdHjgC6rENB"
      },
      "execution_count": 35,
      "outputs": []
    },
    {
      "cell_type": "code",
      "source": [
        "home_work04 = (SparkSession.builder.master(\"Data_603\").appName(\"HW04\").getOrCreate())"
      ],
      "metadata": {
        "id": "otj41ISQsGzW"
      },
      "execution_count": 36,
      "outputs": []
    },
    {
      "cell_type": "code",
      "source": [
        "df = spark.read.csv('Part1_Crime_data.csv', header=True,inferSchema=True)"
      ],
      "metadata": {
        "id": "p7_XnXCgtlbW"
      },
      "execution_count": 55,
      "outputs": []
    },
    {
      "cell_type": "code",
      "source": [
        "df.printSchema()"
      ],
      "metadata": {
        "colab": {
          "base_uri": "https://localhost:8080/"
        },
        "id": "TgHrQPHu4rga",
        "outputId": "4c8c4137-e013-4557-ecf0-6700624789bd"
      },
      "execution_count": 56,
      "outputs": [
        {
          "output_type": "stream",
          "name": "stdout",
          "text": [
            "root\n",
            " |-- X: double (nullable = true)\n",
            " |-- Y: double (nullable = true)\n",
            " |-- RowID: integer (nullable = true)\n",
            " |-- CrimeDateTime: string (nullable = true)\n",
            " |-- CrimeCode: string (nullable = true)\n",
            " |-- Location: string (nullable = true)\n",
            " |-- Description: string (nullable = true)\n",
            " |-- Inside_Outside: string (nullable = true)\n",
            " |-- Weapon: string (nullable = true)\n",
            " |-- Post: string (nullable = true)\n",
            " |-- District: string (nullable = true)\n",
            " |-- Neighborhood: string (nullable = true)\n",
            " |-- Latitude: double (nullable = true)\n",
            " |-- Longitude: double (nullable = true)\n",
            " |-- GeoLocation: string (nullable = true)\n",
            " |-- Premise: string (nullable = true)\n",
            " |-- VRIName: string (nullable = true)\n",
            " |-- Total_Incidents: integer (nullable = true)\n",
            " |-- Shape: string (nullable = true)\n",
            "\n"
          ]
        }
      ]
    },
    {
      "cell_type": "code",
      "source": [
        "df.schema"
      ],
      "metadata": {
        "colab": {
          "base_uri": "https://localhost:8080/"
        },
        "id": "fOVC0AKaFUVe",
        "outputId": "b05ec6d2-9885-46a3-b189-f70f2e05c4ff"
      },
      "execution_count": 48,
      "outputs": [
        {
          "output_type": "execute_result",
          "data": {
            "text/plain": [
              "StructType(List(StructField(X,DoubleType,true),StructField(Y,DoubleType,true),StructField(RowID,IntegerType,true),StructField(CrimeDateTime,StringType,true),StructField(CrimeCode,StringType,true),StructField(Location,StringType,true),StructField(Description,StringType,true),StructField(Inside_Outside,StringType,true),StructField(Weapon,StringType,true),StructField(Post,StringType,true),StructField(District,StringType,true),StructField(Neighborhood,StringType,true),StructField(Latitude,DoubleType,true),StructField(Longitude,DoubleType,true),StructField(GeoLocation,StringType,true),StructField(Premise,StringType,true),StructField(VRIName,StringType,true),StructField(Total_Incidents,IntegerType,true),StructField(Shape,StringType,true)))"
            ]
          },
          "metadata": {},
          "execution_count": 48
        }
      ]
    },
    {
      "cell_type": "code",
      "source": [
        "df1 = spark.read.csv('Part1_Crime_data.csv', header=True, inferSchema=True, timestampFormat='yyyy/MM/dd HH:mm:ssX')"
      ],
      "metadata": {
        "id": "YJ5EqbmmOcPW"
      },
      "execution_count": 76,
      "outputs": []
    },
    {
      "cell_type": "code",
      "source": [
        "df1.printSchema()"
      ],
      "metadata": {
        "colab": {
          "base_uri": "https://localhost:8080/"
        },
        "id": "Rbss_HmfHwug",
        "outputId": "9c8efd46-1d23-418e-e72b-5a923fecc3bb"
      },
      "execution_count": 78,
      "outputs": [
        {
          "output_type": "stream",
          "name": "stdout",
          "text": [
            "root\n",
            " |-- X: double (nullable = true)\n",
            " |-- Y: double (nullable = true)\n",
            " |-- RowID: integer (nullable = true)\n",
            " |-- CrimeDateTime: timestamp (nullable = true)\n",
            " |-- CrimeCode: string (nullable = true)\n",
            " |-- Location: string (nullable = true)\n",
            " |-- Description: string (nullable = true)\n",
            " |-- Inside_Outside: string (nullable = true)\n",
            " |-- Weapon: string (nullable = true)\n",
            " |-- Post: string (nullable = true)\n",
            " |-- District: string (nullable = true)\n",
            " |-- Neighborhood: string (nullable = true)\n",
            " |-- Latitude: double (nullable = true)\n",
            " |-- Longitude: double (nullable = true)\n",
            " |-- GeoLocation: string (nullable = true)\n",
            " |-- Premise: string (nullable = true)\n",
            " |-- VRIName: string (nullable = true)\n",
            " |-- Total_Incidents: integer (nullable = true)\n",
            " |-- Shape: string (nullable = true)\n",
            "\n"
          ]
        }
      ]
    },
    {
      "cell_type": "code",
      "source": [
        "df1.cache()"
      ],
      "metadata": {
        "colab": {
          "base_uri": "https://localhost:8080/"
        },
        "id": "XESTwfLyQrSb",
        "outputId": "a8d7a8de-9ac5-48a4-f8eb-8076ec0bc7f8"
      },
      "execution_count": 79,
      "outputs": [
        {
          "output_type": "execute_result",
          "data": {
            "text/plain": [
              "DataFrame[X: double, Y: double, RowID: int, CrimeDateTime: timestamp, CrimeCode: string, Location: string, Description: string, Inside_Outside: string, Weapon: string, Post: string, District: string, Neighborhood: string, Latitude: double, Longitude: double, GeoLocation: string, Premise: string, VRIName: string, Total_Incidents: int, Shape: string]"
            ]
          },
          "metadata": {},
          "execution_count": 79
        }
      ]
    },
    {
      "cell_type": "code",
      "source": [
        "df1.count()"
      ],
      "metadata": {
        "colab": {
          "base_uri": "https://localhost:8080/"
        },
        "id": "iLz1pnnw528B",
        "outputId": "2eb145ac-4bfa-4c7d-9d7e-824cc5c9f4fb"
      },
      "execution_count": 80,
      "outputs": [
        {
          "output_type": "execute_result",
          "data": {
            "text/plain": [
              "513756"
            ]
          },
          "metadata": {},
          "execution_count": 80
        }
      ]
    },
    {
      "cell_type": "code",
      "source": [
        "df1.show(5)"
      ],
      "metadata": {
        "colab": {
          "base_uri": "https://localhost:8080/"
        },
        "id": "sF2vAP9v6MEq",
        "outputId": "fc8df41f-7f3f-4617-eb2e-8ce15586358f"
      },
      "execution_count": 91,
      "outputs": [
        {
          "output_type": "stream",
          "name": "stdout",
          "text": [
            "+----------------+----------------+-----+-------------------+---------+------------------+--------------------+--------------+-------+----+---------+--------------+--------+---------+------------------+-------+-------+---------------+-----+\n",
            "|               X|               Y|RowID|      CrimeDateTime|CrimeCode|          Location|         Description|Inside_Outside| Weapon|Post| District|  Neighborhood|Latitude|Longitude|       GeoLocation|Premise|VRIName|Total_Incidents|Shape|\n",
            "+----------------+----------------+-----+-------------------+---------+------------------+--------------------+--------------+-------+----+---------+--------------+--------+---------+------------------+-------+-------+---------------+-----+\n",
            "|1428019.10487147|589532.731060804|    1|2022-03-05 03:43:00|      3NF|     1800 FLEET ST|    ROBBERY - STREET|          null|FIREARM| 213|SOUTHEAST|   FELLS POINT| 39.2847| -76.5913|(39.2847,-76.5913)|   null|   null|              1| null|\n",
            "|1428019.10487147|589532.731060804|    2|2022-03-05 03:43:00|      3NF|     1800 FLEET ST|    ROBBERY - STREET|          null|FIREARM| 213|SOUTHEAST|   FELLS POINT| 39.2847| -76.5913|(39.2847,-76.5913)|   null|   null|              1| null|\n",
            "|1428019.10487147|589532.731060804|    3|2022-03-05 03:43:00|      3NF|     1800 FLEET ST|    ROBBERY - STREET|          null|FIREARM| 213|SOUTHEAST|   FELLS POINT| 39.2847| -76.5913|(39.2847,-76.5913)|   null|   null|              1| null|\n",
            "|1423024.46477252| 572683.29122287|    4|2022-03-05 04:30:00|      3CF|100 E PATAPSCO AVE|ROBBERY - COMMERCIAL|          null|FIREARM| 913| SOUTHERN|      BROOKLYN| 39.2385| -76.6092|(39.2385,-76.6092)|   null|   null|              1| null|\n",
            "|1400632.37017858|593904.722108476|    5|2022-03-05 01:30:00|      3AF|     RD & KEVIN RD|    ROBBERY - STREET|          null|FIREARM| 822|SOUTHWEST|ROGNEL HEIGHTS|  39.297|  -76.688|  (39.297,-76.688)|   null|   null|              1| null|\n",
            "+----------------+----------------+-----+-------------------+---------+------------------+--------------------+--------------+-------+----+---------+--------------+--------+---------+------------------+-------+-------+---------------+-----+\n",
            "only showing top 5 rows\n",
            "\n"
          ]
        }
      ]
    },
    {
      "cell_type": "code",
      "source": [
        "df1.select('CrimeCode').distinct().sort('CrimeCode').show()\n"
      ],
      "metadata": {
        "colab": {
          "base_uri": "https://localhost:8080/"
        },
        "id": "-eVC7trT8X5y",
        "outputId": "e35bbe53-d7b9-4fc1-bc31-ed528e105c09"
      },
      "execution_count": 98,
      "outputs": [
        {
          "output_type": "stream",
          "name": "stdout",
          "text": [
            "+---------+\n",
            "|CrimeCode|\n",
            "+---------+\n",
            "|       1A|\n",
            "|       1K|\n",
            "|       1O|\n",
            "|       2A|\n",
            "|       2B|\n",
            "|      3AF|\n",
            "|     3AJF|\n",
            "|     3AJK|\n",
            "|     3AJO|\n",
            "|      3AK|\n",
            "|      3AO|\n",
            "|       3B|\n",
            "|      3BJ|\n",
            "|       3C|\n",
            "|      3CF|\n",
            "|      3CK|\n",
            "|      3CO|\n",
            "|       3D|\n",
            "|       3E|\n",
            "|      3EF|\n",
            "+---------+\n",
            "only showing top 20 rows\n",
            "\n"
          ]
        }
      ]
    },
    {
      "cell_type": "code",
      "source": [
        "df1.groupBy('CrimeCode').count().sort('count',ascending=False).show()"
      ],
      "metadata": {
        "colab": {
          "base_uri": "https://localhost:8080/"
        },
        "id": "IcdJlvY5TF6f",
        "outputId": "8b421707-43e2-4d6e-b812-2372b025d956"
      },
      "execution_count": 94,
      "outputs": [
        {
          "output_type": "stream",
          "name": "stdout",
          "text": [
            "+---------+-----+\n",
            "|CrimeCode|count|\n",
            "+---------+-----+\n",
            "|       4E|91822|\n",
            "|       6D|68508|\n",
            "|       5A|43956|\n",
            "|       7A|40308|\n",
            "|       6J|27670|\n",
            "|       6G|26898|\n",
            "|       6E|24310|\n",
            "|       6C|23269|\n",
            "|       4C|22455|\n",
            "|       5D|14971|\n",
            "|      3AF|14760|\n",
            "|       4B|14501|\n",
            "|       4A|13240|\n",
            "|       3B|10735|\n",
            "|       4D| 7222|\n",
            "|       5B| 6481|\n",
            "|       9S| 5452|\n",
            "|       6F| 5058|\n",
            "|       5C| 4917|\n",
            "|       6B| 4106|\n",
            "+---------+-----+\n",
            "only showing top 20 rows\n",
            "\n"
          ]
        }
      ]
    },
    {
      "cell_type": "code",
      "source": [
        "df1.groupBy('Neighborhood').count().sort('count',ascending=False).show()"
      ],
      "metadata": {
        "colab": {
          "base_uri": "https://localhost:8080/"
        },
        "id": "bL_95r2bWSrT",
        "outputId": "63a1ccf9-f877-4f0e-f6c9-5748741acac3"
      },
      "execution_count": 93,
      "outputs": [
        {
          "output_type": "stream",
          "name": "stdout",
          "text": [
            "+--------------------+-----+\n",
            "|        Neighborhood|count|\n",
            "+--------------------+-----+\n",
            "|            DOWNTOWN|17818|\n",
            "|           FRANKFORD|12062|\n",
            "|       BELAIR-EDISON|10895|\n",
            "|            BROOKLYN| 9043|\n",
            "|              CANTON| 7548|\n",
            "| SANDTOWN-WINCHESTER| 7430|\n",
            "|         CHERRY HILL| 7407|\n",
            "|               UPTON| 6510|\n",
            "|        MOUNT VERNON| 6160|\n",
            "|         FELLS POINT| 6015|\n",
            "|        INNER HARBOR| 5990|\n",
            "|PATTERSON PARK NE...| 5988|\n",
            "|WASHINGTON VILLAG...| 5940|\n",
            "|      HAMILTON HILLS| 5917|\n",
            "|COLDSTREAM HOMEST...| 5819|\n",
            "|           MONDAWMIN| 5761|\n",
            "|      MCELDERRY PARK| 5676|\n",
            "|CENTRAL PARK HEIGHTS| 5258|\n",
            "|    CARROLLTON RIDGE| 5034|\n",
            "|       BROADWAY EAST| 5004|\n",
            "+--------------------+-----+\n",
            "only showing top 20 rows\n",
            "\n"
          ]
        }
      ]
    },
    {
      "cell_type": "code",
      "source": [
        "df1.groupby(month(df1.CrimeDateTime)).count().sort('count',ascending=False).select('month(CrimeDateTime)', 'count').show()"
      ],
      "metadata": {
        "colab": {
          "base_uri": "https://localhost:8080/"
        },
        "id": "Od2b6_P2XdyH",
        "outputId": "a982b221-d1da-4bf7-cd21-81fa09b138b0"
      },
      "execution_count": 130,
      "outputs": [
        {
          "output_type": "stream",
          "name": "stdout",
          "text": [
            "+--------------------+-----+\n",
            "|month(CrimeDateTime)|count|\n",
            "+--------------------+-----+\n",
            "|                   8|46322|\n",
            "|                  10|46207|\n",
            "|                   7|45982|\n",
            "|                   5|45035|\n",
            "|                   6|44989|\n",
            "|                   9|44827|\n",
            "|                   1|42225|\n",
            "|                  11|42022|\n",
            "|                  12|41593|\n",
            "|                   4|40012|\n",
            "|                   3|39002|\n",
            "|                   2|35540|\n",
            "+--------------------+-----+\n",
            "\n"
          ]
        }
      ]
    },
    {
      "cell_type": "code",
      "source": [
        "df1.groupBy('Weapon').count().sort('count',ascending=False).show()"
      ],
      "metadata": {
        "colab": {
          "base_uri": "https://localhost:8080/"
        },
        "id": "zsF6EVLqZ-2W",
        "outputId": "b8abeb2b-5e95-43f8-d10c-da722f59bc7a"
      },
      "execution_count": 129,
      "outputs": [
        {
          "output_type": "stream",
          "name": "stdout",
          "text": [
            "+-------+------+\n",
            "| Weapon| count|\n",
            "+-------+------+\n",
            "|     NA|408269|\n",
            "|FIREARM| 46217|\n",
            "|  OTHER| 30293|\n",
            "|  KNIFE| 19181|\n",
            "|  HANDS|  7222|\n",
            "|   FIRE|  2348|\n",
            "|   null|   226|\n",
            "+-------+------+\n",
            "\n"
          ]
        }
      ]
    },
    {
      "cell_type": "markdown",
      "source": [
        " NA,OTHER and NULL are not weapons. So, we have four different types            of weapons\n",
        "# 1.FIREARM\n",
        "# 2.KNIFE\n",
        "# 3.HANDS\n",
        "# 4.FIRE\n",
        "\n",
        "# FIREARM is most used weapon."
      ],
      "metadata": {
        "id": "qOHzJt6djZke"
      }
    },
    {
      "cell_type": "code",
      "source": [
        ""
      ],
      "metadata": {
        "id": "TEycd57bhWy7"
      },
      "execution_count": null,
      "outputs": []
    }
  ]
}