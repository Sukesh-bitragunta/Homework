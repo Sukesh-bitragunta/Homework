{
  "nbformat": 4,
  "nbformat_minor": 0,
  "metadata": {
    "colab": {
      "name": "Assignment_03.ipynb",
      "provenance": [],
      "authorship_tag": "ABX9TyNwVbnRCFGV8JaAKsqh8Jyj",
      "include_colab_link": true
    },
    "kernelspec": {
      "name": "python3",
      "display_name": "Python 3"
    },
    "language_info": {
      "name": "python"
    }
  },
  "cells": [
    {
      "cell_type": "markdown",
      "metadata": {
        "id": "view-in-github",
        "colab_type": "text"
      },
      "source": [
        "<a href=\"https://colab.research.google.com/github/Sukesh-bitragunta/Homework/blob/main/Assignment_03/Assignment_03.ipynb\" target=\"_parent\"><img src=\"https://colab.research.google.com/assets/colab-badge.svg\" alt=\"Open In Colab\"/></a>"
      ]
    },
    {
      "cell_type": "code",
      "execution_count": 1,
      "metadata": {
        "colab": {
          "base_uri": "https://localhost:8080/"
        },
        "id": "CCR6T0jGjK8w",
        "outputId": "59f7b77b-29fd-4390-9e35-9f7093027ea8"
      },
      "outputs": [
        {
          "output_type": "stream",
          "name": "stdout",
          "text": [
            "1 7 3 7 9 8 7 0 1 7 \n",
            "5 6 3 5 1 9 6 0 0 4 \n",
            "3 4 4 7 6 0 8 3 2 5 \n",
            "4 5 0 7 9 9 9 7 3 7 \n",
            "3 0 7 4 6 1 8 1 1 7 \n",
            "0 5 8 1 9 6 6 7 4 5 \n",
            "3 9 9 9 0 6 1 8 5 6 \n",
            "0 8 2 2 4 9 8 2 3 6 \n",
            "2 9 2 3 4 5 1 5 7 6 \n",
            "1 9 0 3 8 6 2 2 4 1 \n"
          ]
        }
      ],
      "source": [
        "#1\n",
        "import random\n",
        "for i in range (0,10):\n",
        "    for i in range (0,10):\n",
        "        print(random.randint(0,9),end=\" \")\n",
        "    print('')"
      ]
    },
    {
      "cell_type": "code",
      "source": [
        "#2\n",
        "for i in range (0,10):\n",
        "    for s in range (0,10):\n",
        "        N=random.randint(0,9)\n",
        "        if N%2==0:\n",
        "            print(N,end=' ')\n",
        "        else:\n",
        "            print('@',end=' ')\n",
        "    print('')\n",
        "        "
      ],
      "metadata": {
        "colab": {
          "base_uri": "https://localhost:8080/"
        },
        "id": "cJni7BR7jRld",
        "outputId": "2ade16f1-13e1-43a1-86d6-c455d59d0891"
      },
      "execution_count": 2,
      "outputs": [
        {
          "output_type": "stream",
          "name": "stdout",
          "text": [
            "4 @ 6 @ 6 @ 8 @ @ @ \n",
            "0 @ @ 0 0 4 @ 8 @ 0 \n",
            "2 @ @ @ @ 8 8 4 2 @ \n",
            "0 @ @ @ @ @ @ 8 0 4 \n",
            "@ @ @ @ @ 8 2 @ 0 @ \n",
            "2 @ @ 4 6 6 6 0 2 @ \n",
            "4 8 8 @ 8 4 0 4 4 2 \n",
            "@ 4 0 0 4 4 @ @ 6 8 \n",
            "@ @ @ 8 @ @ @ 2 @ 6 \n",
            "8 @ 0 @ 4 @ 6 0 @ 8 \n"
          ]
        }
      ]
    },
    {
      "cell_type": "code",
      "source": [
        "#3\n",
        "for i in range (0,10):\n",
        "    Sum=0\n",
        "    for s in range (0,10):\n",
        "        N=random.randint(0,9)\n",
        "        Sum=Sum+N\n",
        "        print(N,end=' ')\n",
        "    print('*',Sum,end=' ')\n",
        "    print(' ')\n",
        "            "
      ],
      "metadata": {
        "colab": {
          "base_uri": "https://localhost:8080/"
        },
        "id": "yoUOCGg8jX8V",
        "outputId": "fb2482ca-b732-4e8f-a7e7-fb111d506cd9"
      },
      "execution_count": 3,
      "outputs": [
        {
          "output_type": "stream",
          "name": "stdout",
          "text": [
            "1 6 8 5 4 8 0 7 9 8 * 56  \n",
            "7 0 2 8 1 9 5 8 7 0 * 47  \n",
            "7 7 4 3 7 5 1 8 7 9 * 58  \n",
            "5 2 1 0 1 1 0 8 4 6 * 28  \n",
            "0 1 2 2 5 9 8 1 5 6 * 39  \n",
            "5 0 0 1 5 4 4 9 9 5 * 42  \n",
            "5 2 5 7 9 7 4 1 3 1 * 44  \n",
            "3 3 4 7 2 6 0 1 5 6 * 37  \n",
            "8 0 7 7 4 2 7 3 8 7 * 53  \n",
            "0 4 0 1 9 4 9 1 1 9 * 38  \n"
          ]
        }
      ]
    },
    {
      "cell_type": "code",
      "source": [
        "#4\n",
        "for k in range (0,23):\n",
        "    print('*',end='')\n",
        "print('')\n",
        "for i in range (0,10):\n",
        "    Sum=0\n",
        "    print('*',end='')\n",
        "    for s in range (0,10):\n",
        "        N=random.randint(0,9)\n",
        "        Sum=Sum+N\n",
        "        print('',N,end='')\n",
        "    \n",
        "    print(' *',end='')\n",
        "    print('')\n",
        "for l in range (0,23):\n",
        "    print('*',end='')\n"
      ],
      "metadata": {
        "colab": {
          "base_uri": "https://localhost:8080/"
        },
        "id": "u52J9sxAjhCu",
        "outputId": "82e156ee-fe06-4f55-e5cd-d6ada668efdf"
      },
      "execution_count": 4,
      "outputs": [
        {
          "output_type": "stream",
          "name": "stdout",
          "text": [
            "***********************\n",
            "* 6 0 5 8 5 7 9 2 9 6 *\n",
            "* 8 9 8 7 3 3 1 3 4 9 *\n",
            "* 4 7 3 4 8 4 3 0 7 0 *\n",
            "* 9 5 0 0 5 1 0 2 3 2 *\n",
            "* 4 7 3 0 5 3 1 6 4 8 *\n",
            "* 1 0 6 5 2 2 2 0 3 7 *\n",
            "* 1 4 0 5 7 9 7 3 0 2 *\n",
            "* 6 3 6 3 1 8 6 1 6 0 *\n",
            "* 5 6 5 4 1 3 1 4 7 0 *\n",
            "* 3 1 1 4 3 2 8 7 3 3 *\n",
            "***********************"
          ]
        }
      ]
    },
    {
      "cell_type": "code",
      "source": [
        "#5\n",
        "column_sum = [0]*10\n",
        "row_value = 0\n",
        "for i in range(10):\n",
        "    row_value = 0\n",
        "    for j in range(10):\n",
        "        value = random.randint(0,9)\n",
        "        row_value=row_value+value\n",
        "        column_sum[j] = column_sum[j] + value\n",
        "        print(value, end=\"  \") \n",
        "    print(\"*\",end=\" \")\n",
        "    print(row_value,end=\"  \")\n",
        "    print(\"\\n\")\n",
        "for i in range(10):\n",
        "    print(\"*\",end=\"  \")\n",
        "i = 0\n",
        "print(\"\\n\")\n",
        "while i<=9:\n",
        "    print(column_sum[i],end=\" \")\n",
        "    i= i+1"
      ],
      "metadata": {
        "colab": {
          "base_uri": "https://localhost:8080/"
        },
        "id": "t5HnUuuAjnUR",
        "outputId": "5a8ddf1d-28e7-462b-faf9-2a3f8f9b2265"
      },
      "execution_count": 9,
      "outputs": [
        {
          "output_type": "stream",
          "name": "stdout",
          "text": [
            "6  7  6  3  0  0  7  9  8  3  * 49  \n",
            "\n",
            "1  7  6  2  8  9  6  3  5  7  * 54  \n",
            "\n",
            "5  5  7  0  6  3  8  0  5  4  * 43  \n",
            "\n",
            "6  8  8  1  2  5  6  1  2  9  * 48  \n",
            "\n",
            "9  7  6  9  8  5  9  9  8  4  * 74  \n",
            "\n",
            "4  8  3  8  6  7  4  4  0  1  * 45  \n",
            "\n",
            "6  3  2  2  1  6  1  5  1  7  * 34  \n",
            "\n",
            "4  3  5  4  4  7  0  9  3  2  * 41  \n",
            "\n",
            "0  6  5  7  2  6  8  3  2  6  * 45  \n",
            "\n",
            "2  9  8  7  4  0  2  9  2  7  * 50  \n",
            "\n",
            "*  *  *  *  *  *  *  *  *  *  \n",
            "\n",
            "43 63 56 43 41 48 51 52 36 50 "
          ]
        }
      ]
    },
    {
      "cell_type": "code",
      "source": [
        ""
      ],
      "metadata": {
        "id": "efahUkLHju09"
      },
      "execution_count": null,
      "outputs": []
    }
  ]
}